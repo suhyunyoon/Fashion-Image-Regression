{
  "nbformat": 4,
  "nbformat_minor": 0,
  "metadata": {
    "colab": {
      "name": "fashion-MNIST random regression.ipynb",
      "provenance": [],
      "collapsed_sections": [],
      "toc_visible": true
    },
    "kernelspec": {
      "name": "python3",
      "display_name": "Python 3"
    },
    "accelerator": "GPU"
  },
  "cells": [
    {
      "cell_type": "code",
      "metadata": {
        "id": "FCEW7t755XbL",
        "colab_type": "code",
        "colab": {}
      },
      "source": [
        "# INITIAL PACKAGES\n",
        "import os\n",
        "import numpy as np\n",
        "import matplotlib.pyplot as plt\n",
        "\n",
        "import tensorflow as tf\n",
        "from tensorflow import keras"
      ],
      "execution_count": 16,
      "outputs": []
    },
    {
      "cell_type": "markdown",
      "metadata": {
        "id": "Dgduh_g8zHxV",
        "colab_type": "text"
      },
      "source": [
        "## Load Data"
      ]
    },
    {
      "cell_type": "code",
      "metadata": {
        "id": "JBFqtMVAzTN4",
        "colab_type": "code",
        "colab": {}
      },
      "source": [
        "fashion_mnist = keras.datasets.fashion_mnist\n",
        "\n",
        "(train_images, train_labels), (test_images, test_labels) = fashion_mnist.load_data()"
      ],
      "execution_count": 17,
      "outputs": []
    },
    {
      "cell_type": "markdown",
      "metadata": {
        "id": "VkKkZv-PzS_o",
        "colab_type": "text"
      },
      "source": [
        "## IMAGE PREPROCESSING"
      ]
    },
    {
      "cell_type": "code",
      "metadata": {
        "id": "C95cCZQozWWK",
        "colab_type": "code",
        "colab": {}
      },
      "source": [
        "train_images = train_images / 255.0\n",
        "test_images = test_images / 255.0"
      ],
      "execution_count": 18,
      "outputs": []
    },
    {
      "cell_type": "code",
      "metadata": {
        "id": "R_QY5wyW6DzD",
        "colab_type": "code",
        "colab": {}
      },
      "source": [
        "# RESHAPE\n",
        "tr_s = train_images.shape\n",
        "train_images = train_images.reshape((tr_s[0], tr_s[1], tr_s[2], 1))\n",
        "te_s = test_images.shape\n",
        "test_images = test_images.reshape((te_s[0], te_s[1], te_s[2], 1))"
      ],
      "execution_count": 19,
      "outputs": []
    },
    {
      "cell_type": "code",
      "metadata": {
        "id": "wv44P7l604Xt",
        "colab_type": "code",
        "colab": {}
      },
      "source": [
        "# Random value labeling (to regression)\n",
        "np.random.seed(0)\n",
        "#train_labels = np.random.rand(train_images.shape[0])\n",
        "#test_labels = np.random.rand(test_images.shape[0])\n",
        "train_labels = np.random.normal(0, 0.1, train_images.shape[0])\n",
        "test_labels = np.random.normal(0, 0.1, test_images.shape[0])"
      ],
      "execution_count": 20,
      "outputs": []
    },
    {
      "cell_type": "markdown",
      "metadata": {
        "id": "iH2E36hj2HyB",
        "colab_type": "text"
      },
      "source": [
        "## Modeling"
      ]
    },
    {
      "cell_type": "code",
      "metadata": {
        "id": "wKtLV3ZE2SxC",
        "colab_type": "code",
        "colab": {}
      },
      "source": [
        "from keras.models import Sequential\n",
        "from keras.layers import Conv2D, MaxPooling2D, Dropout, Flatten, Dense"
      ],
      "execution_count": 21,
      "outputs": []
    },
    {
      "cell_type": "code",
      "metadata": {
        "id": "gnvWDvVG2CM4",
        "colab_type": "code",
        "colab": {}
      },
      "source": [
        "class CNN():\n",
        "  model = None\n",
        "  def __init__(self):\n",
        "    self.model = Sequential()\n",
        "    self.model.add(Conv2D(filters=64,\n",
        "                    kernel_size=(5, 5),\n",
        "                    strides=(1, 1),\n",
        "                    padding='same',\n",
        "                    activation='relu',\n",
        "                    input_shape=(28, 28, 1)))\n",
        "    self.model.add(Conv2D(filters=64,\n",
        "                    kernel_size=(3, 3),\n",
        "                    strides=(1, 1),\n",
        "                    activation='relu',\n",
        "                    padding='same'))\n",
        "    self.model.add(MaxPooling2D(pool_size=(2, 2),\n",
        "                          strides=(2, 2)))\n",
        "    self.model.add(Conv2D(filters=128,\n",
        "                    kernel_size=(3, 3),\n",
        "                    strides=(1, 1),\n",
        "                    activation='relu',\n",
        "                    padding='same'))\n",
        "    self.model.add(Conv2D(filters=128,\n",
        "                    kernel_size=(3, 3),\n",
        "                    strides=(1, 1),\n",
        "                    activation='relu',\n",
        "                    padding='same'))\n",
        "    self.model.add(MaxPooling2D(pool_size=(2, 2),\n",
        "                          strides=(2, 2)))\n",
        "    #self.model.add(Dropout(0.25))\n",
        "    self.model.add(Conv2D(filters=256,\n",
        "                    kernel_size=(3, 3),\n",
        "                    strides=(1, 1),\n",
        "                    activation='relu',\n",
        "                    padding='same'))\n",
        "    self.model.add(Conv2D(filters=256,\n",
        "                    kernel_size=(3, 3),\n",
        "                    strides=(1, 1),\n",
        "                    activation='relu',\n",
        "                    padding='same'))\n",
        "    self.model.add(MaxPooling2D(pool_size=(2, 2),\n",
        "                          strides=(2, 2)))\n",
        "    #self.model.add(Dropout(0.5))\n",
        "    self.model.add(Conv2D(filters=512,\n",
        "                    kernel_size=(3, 3),\n",
        "                    strides=(1, 1),\n",
        "                    activation='relu',\n",
        "                    padding='same'))\n",
        "    self.model.add(Conv2D(filters=512,\n",
        "                    kernel_size=(3, 3),\n",
        "                    strides=(1, 1),\n",
        "                    activation='relu',\n",
        "                    padding='same'))\n",
        "    self.model.add(MaxPooling2D(pool_size=(2, 2),\n",
        "                          strides=(2, 2)))\n",
        "    #self.model.add(Dropout(0.5))\n",
        "    self.model.add(Flatten())\n",
        "    self.model.add(Dense(units=4096, activation='tanh'))\n",
        "    #self.model.add(Dropout(0.5))\n",
        "    self.model.add(Dense(units=4096, activation='tanh'))\n",
        "    #self.model.add(Dropout(0.5))\n",
        "    self.model.add(Dense(units=1000, activation='tanh'))\n",
        "    self.model.add(Dense(units=1))\n",
        "\n",
        "    self.model.compile(loss='mae',\n",
        "                  optimizer='adam',\n",
        "                  metrics=['mae', 'mse'])"
      ],
      "execution_count": 22,
      "outputs": []
    },
    {
      "cell_type": "code",
      "metadata": {
        "id": "uja4L6ef3DDc",
        "colab_type": "code",
        "colab": {}
      },
      "source": [
        "def train(train_images, train_labels, test_images, test_labels):\n",
        "    # PARAMETERS\n",
        "    epoch = 15\n",
        "    batch_size = 512\n",
        "  \n",
        "    # BUILD YOUR MODEL \n",
        "    model = CNN().model\n",
        "\n",
        "    %%time\n",
        "    hist = model.fit(train_images, train_labels, epochs=epoch, batch_size=batch_size,\n",
        "              validation_data=(test_images[:8000], test_labels[:8000]), verbose=1)\n",
        "    \n",
        "    plt.plot(hist.history['mse'], 'b-', label=\"training\")\n",
        "    plt.plot(hist.history['val_mse'], 'r:', label=\"validation\")\n",
        "    plt.legend()\n",
        "    plt.show()\n",
        "    \n",
        "    # Make prediction data frame\n",
        "    test_pred = model.predict(test_images[8000:])\n",
        "    pred_labels = test_labels[8000:]\n",
        "    index = np.argsort(pred_labels)\n",
        "    scatter = plt.scatter(np.arange(index.shape[0]), test_pred[index], c = 'r', s = 0.1)\n",
        "    scatter = plt.scatter(np.arange(index.shape[0]), pred_labels[index], c = 'b', s = 0.1)\n",
        "    plt.show()\n",
        "\n",
        "    return model"
      ],
      "execution_count": 23,
      "outputs": []
    },
    {
      "cell_type": "code",
      "metadata": {
        "id": "093SrSDU4Fns",
        "colab_type": "code",
        "colab": {
          "base_uri": "https://localhost:8080/",
          "height": 1000
        },
        "outputId": "d7cabe30-0b36-4157-e3bf-83e393d34429"
      },
      "source": [
        "a = train(train_images, train_labels, test_images, test_labels)"
      ],
      "execution_count": 24,
      "outputs": [
        {
          "output_type": "stream",
          "text": [
            "CPU times: user 2 µs, sys: 1e+03 ns, total: 3 µs\n",
            "Wall time: 5.01 µs\n",
            "Epoch 1/15\n",
            "  2/118 [..............................] - ETA: 8s - loss: 0.1086 - mae: 0.1086 - mse: 0.0182WARNING:tensorflow:Callbacks method `on_train_batch_end` is slow compared to the batch time (batch time: 0.0357s vs `on_train_batch_end` time: 0.0755s). Check your callbacks.\n",
            "118/118 [==============================] - 14s 120ms/step - loss: 0.2484 - mae: 0.2484 - mse: 2.2141 - val_loss: 0.0847 - val_mae: 0.0847 - val_mse: 0.0112\n",
            "Epoch 2/15\n",
            "118/118 [==============================] - 13s 114ms/step - loss: 0.0818 - mae: 0.0818 - mse: 0.0105 - val_loss: 0.0823 - val_mae: 0.0823 - val_mse: 0.0106\n",
            "Epoch 3/15\n",
            "118/118 [==============================] - 14s 115ms/step - loss: 0.0812 - mae: 0.0812 - mse: 0.0104 - val_loss: 0.0828 - val_mae: 0.0828 - val_mse: 0.0108\n",
            "Epoch 4/15\n",
            "118/118 [==============================] - 14s 116ms/step - loss: 0.0800 - mae: 0.0800 - mse: 0.0101 - val_loss: 0.0819 - val_mae: 0.0819 - val_mse: 0.0105\n",
            "Epoch 5/15\n",
            "118/118 [==============================] - 14s 117ms/step - loss: 0.0802 - mae: 0.0802 - mse: 0.0101 - val_loss: 0.0795 - val_mae: 0.0795 - val_mse: 0.0099\n",
            "Epoch 6/15\n",
            "118/118 [==============================] - 14s 118ms/step - loss: 0.0798 - mae: 0.0798 - mse: 0.0100 - val_loss: 0.0839 - val_mae: 0.0839 - val_mse: 0.0110\n",
            "Epoch 7/15\n",
            "118/118 [==============================] - 14s 118ms/step - loss: 0.0799 - mae: 0.0799 - mse: 0.0101 - val_loss: 0.0795 - val_mae: 0.0795 - val_mse: 0.0099\n",
            "Epoch 8/15\n",
            "118/118 [==============================] - 14s 119ms/step - loss: 0.0796 - mae: 0.0796 - mse: 0.0100 - val_loss: 0.0791 - val_mae: 0.0791 - val_mse: 0.0098\n",
            "Epoch 9/15\n",
            "118/118 [==============================] - 14s 119ms/step - loss: 0.0799 - mae: 0.0799 - mse: 0.0100 - val_loss: 0.0810 - val_mae: 0.0810 - val_mse: 0.0103\n",
            "Epoch 10/15\n",
            "118/118 [==============================] - 14s 120ms/step - loss: 0.0801 - mae: 0.0801 - mse: 0.0101 - val_loss: 0.0793 - val_mae: 0.0793 - val_mse: 0.0099\n",
            "Epoch 11/15\n",
            "118/118 [==============================] - 14s 120ms/step - loss: 0.0797 - mae: 0.0797 - mse: 0.0100 - val_loss: 0.0795 - val_mae: 0.0795 - val_mse: 0.0099\n",
            "Epoch 12/15\n",
            "118/118 [==============================] - 14s 120ms/step - loss: 0.0796 - mae: 0.0796 - mse: 0.0100 - val_loss: 0.0793 - val_mae: 0.0793 - val_mse: 0.0099\n",
            "Epoch 13/15\n",
            "118/118 [==============================] - 14s 121ms/step - loss: 0.0795 - mae: 0.0795 - mse: 0.0100 - val_loss: 0.0792 - val_mae: 0.0792 - val_mse: 0.0098\n",
            "Epoch 14/15\n",
            "118/118 [==============================] - 14s 121ms/step - loss: 0.0797 - mae: 0.0797 - mse: 0.0100 - val_loss: 0.0794 - val_mae: 0.0794 - val_mse: 0.0099\n",
            "Epoch 15/15\n",
            "118/118 [==============================] - 14s 122ms/step - loss: 0.0797 - mae: 0.0797 - mse: 0.0100 - val_loss: 0.0791 - val_mae: 0.0791 - val_mse: 0.0098\n"
          ],
          "name": "stdout"
        },
        {
          "output_type": "display_data",
          "data": {
            "image/png": "[encoded data removed]",
            "text/plain": [
              "<Figure size 432x288 with 1 Axes>"
            ]
          },
          "metadata": {
            "tags": [],
            "needs_background": "light"
          }
        },
        {
          "output_type": "display_data",
          "data": {
            "image/png": "[encoded data removed]",
            "text/plain": [
              "<Figure size 432x288 with 1 Axes>"
            ]
          },
          "metadata": {
            "tags": [],
            "needs_background": "light"
          }
        }
      ]
    }
  ]
}