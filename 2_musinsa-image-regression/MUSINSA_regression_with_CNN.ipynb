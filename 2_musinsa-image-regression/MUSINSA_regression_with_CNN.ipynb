{
  "nbformat": 4,
  "nbformat_minor": 0,
  "metadata": {
    "colab": {
      "name": "MUSINSA regression with CNN.ipynb",
      "provenance": [],
      "collapsed_sections": [],
      "toc_visible": true
    },
    "kernelspec": {
      "name": "python3",
      "display_name": "Python 3"
    },
    "accelerator": "GPU"
  },
  "cells": [
    {
      "cell_type": "markdown",
      "metadata": {
        "id": "im6gWMUhXIjp",
        "colab_type": "text"
      },
      "source": [
        "## INITIAL PACKAGES"
      ]
    },
    {
      "cell_type": "code",
      "metadata": {
        "id": "pZLzfsYrW8EM",
        "colab_type": "code",
        "colab": {}
      },
      "source": [
        "from PIL import Image\n",
        "import os, glob\n",
        "import numpy as np\n",
        "import pandas as pd\n",
        "\n",
        "import matplotlib.pyplot as plt\n",
        "import matplotlib\n",
        "\n",
        "import tensorflow as tf\n",
        "from tensorflow import keras"
      ],
      "execution_count": 1,
      "outputs": []
    },
    {
      "cell_type": "markdown",
      "metadata": {
        "id": "NxPIAAN9XGMp",
        "colab_type": "text"
      },
      "source": [
        "## LOAD DATA"
      ]
    },
    {
      "cell_type": "code",
      "metadata": {
        "id": "SnPgNx-hXL_e",
        "colab_type": "code",
        "colab": {}
      },
      "source": [
        "# 한글명 -> index\n",
        "item_list = {\n",
        "    '단화': 0,\n",
        "    '데님': 1,\n",
        "    '미니 원피스': 2, \n",
        "    '미니스커트': 3,\n",
        "    '미디 원피스': 4,\n",
        "    '반팔': 5,\n",
        "    '셔츠': 6,\n",
        "    '슬랙스': 7,\n",
        "    '카디건': 8, \n",
        "    '카라 티셔츠': 9,\n",
        "    '후드 집업': 10\n",
        "}\n",
        "# 파일 경로 지정\n",
        "current_dir = os.path.join(os.getcwd(), 'drive/My Drive/Colab Notebooks')\n",
        "item_path = os.path.join(current_dir, 'musinsa_data')\n",
        "item_csv = {}"
      ],
      "execution_count": 19,
      "outputs": []
    },
    {
      "cell_type": "code",
      "metadata": {
        "id": "MHQVYmu6A4OH",
        "colab_type": "code",
        "colab": {}
      },
      "source": [
        "# csv파일 읽음\n",
        "for i in item_list:\n",
        "  item = os.path.join(item_path, i + '.csv')\n",
        "  item_csv[i] = pd.read_csv(item, encoding='CP949').fillna('0')\n",
        "  # korean to index\n",
        "  item_csv[i]['category'] = item_list[i]"
      ],
      "execution_count": 20,
      "outputs": []
    },
    {
      "cell_type": "code",
      "metadata": {
        "id": "rkbTD21FTxts",
        "colab_type": "code",
        "colab": {
          "base_uri": "https://localhost:8080/",
          "height": 1000
        },
        "outputId": "db8e9fee-2d99-4e3d-8ab5-4c5e35e66f5f"
      },
      "source": [
        "item_csv['단화']"
      ],
      "execution_count": 21,
      "outputs": [
        {
          "output_type": "execute_result",
          "data": {
            "text/html": [
              "<div>\n",
              "<style scoped>\n",
              "    .dataframe tbody tr th:only-of-type {\n",
              "        vertical-align: middle;\n",
              "    }\n",
              "\n",
              "    .dataframe tbody tr th {\n",
              "        vertical-align: top;\n",
              "    }\n",
              "\n",
              "    .dataframe thead th {\n",
              "        text-align: right;\n",
              "    }\n",
              "</style>\n",
              "<table border=\"1\" class=\"dataframe\">\n",
              "  <thead>\n",
              "    <tr style=\"text-align: right;\">\n",
              "      <th></th>\n",
              "      <th>index</th>\n",
              "      <th>filename</th>\n",
              "      <th>title</th>\n",
              "      <th>category</th>\n",
              "      <th>tag</th>\n",
              "      <th>brand</th>\n",
              "      <th>pageView</th>\n",
              "      <th>sales</th>\n",
              "      <th>likes</th>\n",
              "      <th>price</th>\n",
              "      <th>satisfation</th>\n",
              "      <th>reviewContents</th>\n",
              "      <th>hashkeywords</th>\n",
              "      <th>keywords</th>\n",
              "      <th>contents</th>\n",
              "    </tr>\n",
              "  </thead>\n",
              "  <tbody>\n",
              "    <tr>\n",
              "      <th>0</th>\n",
              "      <td>0</td>\n",
              "      <td>0.jpg</td>\n",
              "      <td>올드스쿨 - 블랙 / VN000D3HY281 VN-0D3HY28 / OLD SKOO...</td>\n",
              "      <td>0</td>\n",
              "      <td>운동화 보드화 블랙 OLD SKOOL 스니커즈 올드스쿨 캔버스 클래식 캐리오버</td>\n",
              "      <td>VANS</td>\n",
              "      <td>5.9만 회 이상</td>\n",
              "      <td>6.1만 개 이상</td>\n",
              "      <td>0</td>\n",
              "      <td>69000</td>\n",
              "      <td>95.76% 만족</td>\n",
              "      <td>사이즈 커요 : 9% 보통이에요 : 90% 작아요 : 1% 밝기 밝아요 : 6% 보...</td>\n",
              "      <td>#사이즈 #신발 #반스 #올드스쿨 #처음 #어디 #역시 #때 #발볼 #신어 #업 #...</td>\n",
              "      <td>('사이즈', 76) ('신발', 56) ('반스', 41) ('올드스쿨', 40)...</td>\n",
              "      <td>올드스쿨은 반스의 클래식한 스케이트 슈즈이며  반스의 아이콘으로 자리 잡은 사이드 ...</td>\n",
              "    </tr>\n",
              "    <tr>\n",
              "      <th>1</th>\n",
              "      <td>1</td>\n",
              "      <td>1.jpg</td>\n",
              "      <td>BW 독일군 스니커즈 - 화이트 / BZ0579 BW ARMY - WHITE</td>\n",
              "      <td>0</td>\n",
              "      <td>독일군 스니커즈 화이트 운동화 클래식</td>\n",
              "      <td>ADIDAS</td>\n",
              "      <td>7.5만 회 이상</td>\n",
              "      <td>3.7만 개 이상</td>\n",
              "      <td>0</td>\n",
              "      <td>139000</td>\n",
              "      <td>95.24% 만족</td>\n",
              "      <td>사이즈 커요 : 23% 보통이에요 : 75% 작아요 : 2% 밝기 밝아요 : 23%...</td>\n",
              "      <td>#사이즈 #신발 #독일군 #조금 #추천 #구매 #아디다스 #발볼 #수 #또 #디자인...</td>\n",
              "      <td>('사이즈', 96) ('신발', 53) ('독일군', 49) ('조금', 44) ...</td>\n",
              "      <td>※ 스니커즈의 아웃솔은 220사이즈 제외  5단위로만 제작되어 구매사이즈와 다를 수...</td>\n",
              "    </tr>\n",
              "    <tr>\n",
              "      <th>2</th>\n",
              "      <td>2</td>\n",
              "      <td>2.jpg</td>\n",
              "      <td>스케이트 하이 - 블랙 / VN000D5IB8C1 반스 스케이트 하이 블랙 / VN...</td>\n",
              "      <td>0</td>\n",
              "      <td>하이탑 스니커즈 스케이트보드 클래식 스케이트하이 캔버스 캐리오버 블랙</td>\n",
              "      <td>VANS</td>\n",
              "      <td>2.6천 회 이상</td>\n",
              "      <td>3만 개 이상</td>\n",
              "      <td>0</td>\n",
              "      <td>79000</td>\n",
              "      <td>97.54% 만족</td>\n",
              "      <td>사이즈 커요 : 6% 보통이에요 : 92% 작아요 : 2% 밝기 밝아요 : 10% ...</td>\n",
              "      <td>#신발 #반스 #신어 #사이즈 #무난 #포인트 #업 #색 #거 #하나 #생각 #것 ...</td>\n",
              "      <td>('신발', 82) ('반스', 79) ('신어', 49) ('사이즈', 48) (...</td>\n",
              "      <td>올드스쿨 다음으로 사이드 스트라이프를 가미한 실루엣인 스케이트-하이는 1978년에 ...</td>\n",
              "    </tr>\n",
              "    <tr>\n",
              "      <th>3</th>\n",
              "      <td>3</td>\n",
              "      <td>3.jpg</td>\n",
              "      <td>클래식 슬립온 - (체커보드) 블랙:화이트 / VN000EYEBWW1 Classic...</td>\n",
              "      <td>0</td>\n",
              "      <td>스니커즈 캐리오버 화이트 슬립온 체커보드 캔버스 스케이트보드 블랙</td>\n",
              "      <td>VANS</td>\n",
              "      <td>3만 회 이상</td>\n",
              "      <td>2.8만 개 이상</td>\n",
              "      <td>0</td>\n",
              "      <td>59000</td>\n",
              "      <td>97.28% 만족</td>\n",
              "      <td>사이즈 커요 : 5% 보통이에요 : 90% 작아요 : 5% 밝기 밝아요 : 10% ...</td>\n",
              "      <td>#사이즈 #것 #반스 #업 #정사 #이즈 #신발 #구매 #옷 #약간 #발등 #무난 ...</td>\n",
              "      <td>('사이즈', 72) ('것', 67) ('반스', 63) ('업', 54) ('정...</td>\n",
              "      <td>1979년에 탄생한 반스의 클래식 슬립온은 탄생 직후 반스의 대표적인 실루엣이 되었...</td>\n",
              "    </tr>\n",
              "    <tr>\n",
              "      <th>4</th>\n",
              "      <td>4</td>\n",
              "      <td>4.jpg</td>\n",
              "      <td>스케이트 하이 - 네이비 / VN000D5INVY1 반스 스케이트 하이 / VN00...</td>\n",
              "      <td>0</td>\n",
              "      <td>캔버스 스케이트보드 클래식 하이탑 스케이트하이 스니커즈 캐리오버</td>\n",
              "      <td>VANS</td>\n",
              "      <td>1.1천 회 이상</td>\n",
              "      <td>2.5만 개 이상</td>\n",
              "      <td>0</td>\n",
              "      <td>79000</td>\n",
              "      <td>97.54% 만족</td>\n",
              "      <td>사이즈 커요 : 6% 보통이에요 : 92% 작아요 : 2% 밝기 밝아요 : 10% ...</td>\n",
              "      <td>#신발 #반스 #신어 #사이즈 #무난 #포인트 #업 #색 #거 #하나 #생각 #것 ...</td>\n",
              "      <td>('신발', 82) ('반스', 79) ('신어', 49) ('사이즈', 48) (...</td>\n",
              "      <td>올드스쿨 다음으로 사이드 스트라이프를 가미한 실루엣인 스케이트-하이는 1978년에 ...</td>\n",
              "    </tr>\n",
              "    <tr>\n",
              "      <th>...</th>\n",
              "      <td>...</td>\n",
              "      <td>...</td>\n",
              "      <td>...</td>\n",
              "      <td>...</td>\n",
              "      <td>...</td>\n",
              "      <td>...</td>\n",
              "      <td>...</td>\n",
              "      <td>...</td>\n",
              "      <td>...</td>\n",
              "      <td>...</td>\n",
              "      <td>...</td>\n",
              "      <td>...</td>\n",
              "      <td>...</td>\n",
              "      <td>...</td>\n",
              "      <td>...</td>\n",
              "    </tr>\n",
              "    <tr>\n",
              "      <th>3243</th>\n",
              "      <td>3243</td>\n",
              "      <td>3243.jpg</td>\n",
              "      <td>올림 Olym</td>\n",
              "      <td>0</td>\n",
              "      <td>마크모크 여자스니커즈 MAC MOC 여성스니커즈 olym</td>\n",
              "      <td>MAC MOC</td>\n",
              "      <td>31</td>\n",
              "      <td>0</td>\n",
              "      <td>0</td>\n",
              "      <td>95000</td>\n",
              "      <td>등록된 후기가 없습니다.</td>\n",
              "      <td>사이즈 커요 : 0% 보통이에요 : 0% 작아요 : 0% 밝기 밝아요 : 0% 보통...</td>\n",
              "      <td>0</td>\n",
              "      <td>0</td>\n",
              "      <td>0</td>\n",
              "    </tr>\n",
              "    <tr>\n",
              "      <th>3244</th>\n",
              "      <td>3244</td>\n",
              "      <td>3244.jpg</td>\n",
              "      <td>삭스레이스 하이탑 no.196 no.196</td>\n",
              "      <td>0</td>\n",
              "      <td>하이탑 노모니코 nomonico 발렌시아 삭스</td>\n",
              "      <td>NOMONICO</td>\n",
              "      <td>80</td>\n",
              "      <td>0</td>\n",
              "      <td>0</td>\n",
              "      <td>168000</td>\n",
              "      <td>90% 만족</td>\n",
              "      <td>사이즈 커요 : 0% 보통이에요 : 0% 작아요 : 0% 밝기 밝아요 : 0% 보통...</td>\n",
              "      <td>#신발 #걱정 #디자인 #신고 #마음 #거 #약간 #빈티 #스타일 #때 #교환 #상...</td>\n",
              "      <td>('신발', 6) ('걱정', 6) ('디자인', 6) ('신고', 6) ('마음'...</td>\n",
              "      <td>0</td>\n",
              "    </tr>\n",
              "    <tr>\n",
              "      <th>3245</th>\n",
              "      <td>3245</td>\n",
              "      <td>3245.jpg</td>\n",
              "      <td>빈티지 벨크로 스니커즈 no.707 NO.707</td>\n",
              "      <td>0</td>\n",
              "      <td>노모니코 nomonico</td>\n",
              "      <td>NOMONICO</td>\n",
              "      <td>45</td>\n",
              "      <td>0</td>\n",
              "      <td>0</td>\n",
              "      <td>158000</td>\n",
              "      <td>100% 만족</td>\n",
              "      <td>사이즈 커요 : 0% 보통이에요 : 100% 작아요 : 0% 밝기 밝아요 : 0% ...</td>\n",
              "      <td>#접 #브랜드 #라코스테 #이건 #쿠션 #감 #폭 #처음 #구매 #막상 #다자 #찍...</td>\n",
              "      <td>('접', 6) ('브랜드', 6) ('라코스테', 6) ('이건', 6) ('쿠션...</td>\n",
              "      <td>0</td>\n",
              "    </tr>\n",
              "    <tr>\n",
              "      <th>3246</th>\n",
              "      <td>3246</td>\n",
              "      <td>3246.jpg</td>\n",
              "      <td>W IAN(SKIN-W014161)</td>\n",
              "      <td>0</td>\n",
              "      <td>언노운 스니커즈 여성화 UNNOWN</td>\n",
              "      <td>UNNOWN</td>\n",
              "      <td>36</td>\n",
              "      <td>0</td>\n",
              "      <td>0</td>\n",
              "      <td>105000</td>\n",
              "      <td>등록된 후기가 없습니다.</td>\n",
              "      <td>사이즈 커요 : 0% 보통이에요 : 0% 작아요 : 0% 밝기 밝아요 : 0% 보통...</td>\n",
              "      <td>0</td>\n",
              "      <td>0</td>\n",
              "      <td>0</td>\n",
              "    </tr>\n",
              "    <tr>\n",
              "      <th>3247</th>\n",
              "      <td>3247</td>\n",
              "      <td>3247.jpg</td>\n",
              "      <td>W HAAS(BLACK-W007161)</td>\n",
              "      <td>0</td>\n",
              "      <td>여성화 UNNOWN 언노운 스니커즈</td>\n",
              "      <td>UNNOWN</td>\n",
              "      <td>47</td>\n",
              "      <td>0</td>\n",
              "      <td>0</td>\n",
              "      <td>89000</td>\n",
              "      <td>100% 만족</td>\n",
              "      <td>사이즈 커요 : 0% 보통이에요 : 100% 작아요 : 0% 밝기 밝아요 : 0% ...</td>\n",
              "      <td>#착용 #신발 #가성 #비 #제품</td>\n",
              "      <td>('착용', 3) ('신발', 3) ('가성', 3) ('비', 3) ('제품', 3)</td>\n",
              "      <td>0</td>\n",
              "    </tr>\n",
              "  </tbody>\n",
              "</table>\n",
              "<p>3248 rows × 15 columns</p>\n",
              "</div>"
            ],
            "text/plain": [
              "      index  ...                                           contents\n",
              "0         0  ...  올드스쿨은 반스의 클래식한 스케이트 슈즈이며  반스의 아이콘으로 자리 잡은 사이드 ...\n",
              "1         1  ...  ※ 스니커즈의 아웃솔은 220사이즈 제외  5단위로만 제작되어 구매사이즈와 다를 수...\n",
              "2         2  ...  올드스쿨 다음으로 사이드 스트라이프를 가미한 실루엣인 스케이트-하이는 1978년에 ...\n",
              "3         3  ...  1979년에 탄생한 반스의 클래식 슬립온은 탄생 직후 반스의 대표적인 실루엣이 되었...\n",
              "4         4  ...  올드스쿨 다음으로 사이드 스트라이프를 가미한 실루엣인 스케이트-하이는 1978년에 ...\n",
              "...     ...  ...                                                ...\n",
              "3243   3243  ...                                                  0\n",
              "3244   3244  ...                                                  0\n",
              "3245   3245  ...                                                  0\n",
              "3246   3246  ...                                                  0\n",
              "3247   3247  ...                                                  0\n",
              "\n",
              "[3248 rows x 15 columns]"
            ]
          },
          "metadata": {
            "tags": []
          },
          "execution_count": 21
        }
      ]
    },
    {
      "cell_type": "code",
      "metadata": {
        "id": "wuAZGYG0_R73",
        "colab_type": "code",
        "colab": {}
      },
      "source": [
        "# 한글 데이터를 숫자로(추후 크롤링 코드 수정해서 숫자 값으로 받아오게)\n",
        "# 100만 회 이상 -> 1000000\n",
        "def numtext_to_num(p):\n",
        "  mult = 1\n",
        "  p = p.strip().replace(' ','')\n",
        "  p = p.replace('회이상', '')\n",
        "  if p.endswith('천'):\n",
        "    p = p.replace('천', '')\n",
        "    mult = 1000\n",
        "  elif p.endswith('만'):\n",
        "    p = p.replace('만', '')\n",
        "    mult = 10000\n",
        "  ret = int(float(p) * mult)\n",
        "  return ret\n",
        "t2n = np.vectorize(numtext_to_num)"
      ],
      "execution_count": 4,
      "outputs": []
    },
    {
      "cell_type": "code",
      "metadata": {
        "id": "pQHRLXV19B1O",
        "colab_type": "code",
        "colab": {
          "base_uri": "https://localhost:8080/",
          "height": 212
        },
        "outputId": "e188ba18-dbe9-4a8b-aefa-b32950853a32"
      },
      "source": [
        "# 이미지 크기\n",
        "image_w = 60 \n",
        "image_h = 60\n",
        "# 모든 이미지를 X에 저장\n",
        "# image, ndarray\n",
        "X = np.empty((0,image_w, image_h, 3))\n",
        "# label, list\n",
        "Y = []\n",
        "\n",
        "# 카테고리 별로 이미지 파일 읽음\n",
        "for item in item_list:\n",
        "  # load saved .npy file\n",
        "  try:\n",
        "    # 이미지 numpy 배열이 저장되어 있는지 확인\n",
        "    tempX = np.load(os.path.join(item_path, item + '.npy'))\n",
        "    print('read ' + item + '.npy...')\n",
        "  # read all .jpg file\n",
        "  except:\n",
        "    tempX = []\n",
        "    image_path = os.path.join(item_path, item, '*.jpg')\n",
        "    files = glob.glob(image_path)\n",
        "    # 모든 이미지 파일 읽음\n",
        "    for i, f in enumerate(files):\n",
        "      img = Image.open(f) \n",
        "      img = img.convert(\"RGB\")\n",
        "      img = img.resize((image_w, image_h))\n",
        "      # numpy\n",
        "      data = np.asarray(img)\n",
        "      tempX.append(data)\n",
        "      if i % 100 == 0:\n",
        "        print(i)\n",
        "    tempX = np.array(tempX)\n",
        "    print('save ' + item + '.npy...')\n",
        "    np.save(os.path.join(item_path, item + '.npy'), tempX)\n",
        "  # concat\n",
        "  X = np.concatenate((X, tempX), axis=0)\n",
        "  # set label\n",
        "  Y += list(item_csv[item]['pageView'])\n",
        "# 한글 숫자로 변환\n",
        "Y = t2n(Y)\n",
        "num_X = len(X)"
      ],
      "execution_count": 5,
      "outputs": [
        {
          "output_type": "stream",
          "text": [
            "read 단화.npy...\n",
            "read 데님.npy...\n",
            "read 미니 원피스.npy...\n",
            "read 미니스커트.npy...\n",
            "read 미디 원피스.npy...\n",
            "read 반팔.npy...\n",
            "read 셔츠.npy...\n",
            "read 슬랙스.npy...\n",
            "read 카디건.npy...\n",
            "read 카라 티셔츠.npy...\n",
            "read 후드 집업.npy...\n"
          ],
          "name": "stdout"
        }
      ]
    },
    {
      "cell_type": "code",
      "metadata": {
        "id": "K9Urack8LphL",
        "colab_type": "code",
        "colab": {
          "base_uri": "https://localhost:8080/",
          "height": 52
        },
        "outputId": "4d5fcfc1-6295-4709-f783-8a93ce4684e0"
      },
      "source": [
        "print(X.shape)\n",
        "print(Y.shape)"
      ],
      "execution_count": 7,
      "outputs": [
        {
          "output_type": "stream",
          "text": [
            "(28402, 60, 60, 3)\n",
            "(28402,)\n"
          ],
          "name": "stdout"
        }
      ]
    },
    {
      "cell_type": "markdown",
      "metadata": {
        "id": "wMiaVeocXM-D",
        "colab_type": "text"
      },
      "source": [
        "## DATA PREPROCESSING"
      ]
    },
    {
      "cell_type": "code",
      "metadata": {
        "id": "r9FMql5gtqg3",
        "colab_type": "code",
        "colab": {}
      },
      "source": [
        "# shuffle\n",
        "index = np.argsort(Y)[:-1]\n",
        "np.random.shuffle(index)\n",
        "#rand_index = np.random.permutation(num_X)\n",
        "X = X[index] / 255.0\n",
        "# 좀더 선형으로 만들기\n",
        "Y = np.log(Y[index] + 1)\n",
        "Y = (Y - Y.min()) / (Y.max() - Y.min())\n",
        "#Y = np.arctan(Y - Y.mean())"
      ],
      "execution_count": 8,
      "outputs": []
    },
    {
      "cell_type": "markdown",
      "metadata": {
        "id": "sb31-d_bXSpF",
        "colab_type": "text"
      },
      "source": [
        "## Modeling"
      ]
    },
    {
      "cell_type": "code",
      "metadata": {
        "id": "zuy-FNulXTBl",
        "colab_type": "code",
        "colab": {}
      },
      "source": [
        "from keras.models import Sequential, load_model\n",
        "from keras.layers import Conv2D, MaxPooling2D, Dropout, Flatten, Dense\n",
        "from keras.callbacks import EarlyStopping"
      ],
      "execution_count": 9,
      "outputs": []
    },
    {
      "cell_type": "code",
      "metadata": {
        "id": "vvzP4yjRXUWQ",
        "colab_type": "code",
        "colab": {}
      },
      "source": [
        "# VGG16\n",
        "class CNN():\n",
        "  model = None\n",
        "  def __init__(self):\n",
        "    self.model = Sequential()\n",
        "    self.model.add(Conv2D(filters=64,\n",
        "                    kernel_size=(3, 3),\n",
        "                    strides=(1, 1),\n",
        "                    padding='same',\n",
        "                    activation='relu',\n",
        "                    input_shape=(60, 60, 3)))\n",
        "    self.model.add(Conv2D(filters=64,\n",
        "                    kernel_size=(3, 3),\n",
        "                    strides=(1, 1),\n",
        "                    activation='relu',\n",
        "                    padding='same'))\n",
        "    self.model.add(MaxPooling2D(pool_size=(2, 2),\n",
        "                          strides=(2, 2)))\n",
        "    \n",
        "    self.model.add(Conv2D(filters=128,\n",
        "                    kernel_size=(3, 3),\n",
        "                    strides=(1, 1),\n",
        "                    activation='relu',\n",
        "                    padding='same'))\n",
        "    self.model.add(Conv2D(filters=128,\n",
        "                    kernel_size=(3, 3),\n",
        "                    strides=(1, 1),\n",
        "                    activation='relu',\n",
        "                    padding='same'))\n",
        "    self.model.add(MaxPooling2D(pool_size=(2, 2),\n",
        "                          strides=(2, 2)))\n",
        "    '''\n",
        "    #self.model.add(Dropout(0.25))\n",
        "    self.model.add(Conv2D(filters=256,\n",
        "                    kernel_size=(3, 3),\n",
        "                    strides=(1, 1),\n",
        "                    activation='relu',\n",
        "                    padding='same'))\n",
        "    self.model.add(Conv2D(filters=256,\n",
        "                    kernel_size=(3, 3),\n",
        "                    strides=(1, 1),\n",
        "                    activation='relu',\n",
        "                    padding='same'))\n",
        "    self.model.add(Conv2D(filters=256,\n",
        "                    kernel_size=(3, 3),\n",
        "                    strides=(1, 1),\n",
        "                    activation='relu',\n",
        "                    padding='same'))\n",
        "    self.model.add(MaxPooling2D(pool_size=(2, 2),\n",
        "                          strides=(2, 2)))\n",
        "    #self.model.add(Dropout(0.5))\n",
        "    self.model.add(Conv2D(filters=512,\n",
        "                    kernel_size=(3, 3),\n",
        "                    strides=(1, 1),\n",
        "                    activation='relu',\n",
        "                    padding='same'))\n",
        "    self.model.add(Conv2D(filters=512,\n",
        "                    kernel_size=(3, 3),\n",
        "                    strides=(1, 1),\n",
        "                    activation='relu',\n",
        "                    padding='same'))\n",
        "    self.model.add(Conv2D(filters=512,\n",
        "                    kernel_size=(3, 3),\n",
        "                    strides=(1, 1),\n",
        "                    activation='relu',\n",
        "                    padding='same'))\n",
        "    self.model.add(MaxPooling2D(pool_size=(2, 2),\n",
        "                          strides=(2, 2)))\n",
        "    self.model.add(Conv2D(filters=512,\n",
        "                    kernel_size=(3, 3),\n",
        "                    strides=(1, 1),\n",
        "                    activation='relu',\n",
        "                    padding='same'))\n",
        "    self.model.add(Conv2D(filters=512,\n",
        "                    kernel_size=(3, 3),\n",
        "                    strides=(1, 1),\n",
        "                    activation='relu',\n",
        "                    padding='same'))\n",
        "    self.model.add(Conv2D(filters=512,\n",
        "                    kernel_size=(3, 3),\n",
        "                    strides=(1, 1),\n",
        "                    activation='relu',\n",
        "                    padding='same'))\n",
        "    self.model.add(MaxPooling2D(pool_size=(2, 2),\n",
        "                          strides=(2, 2)))\n",
        "                          '''\n",
        "    self.model.add(Flatten())\n",
        "    #self.model.add(Dense(units=4096, kernel_regularizer=keras.regularizers.l2(0.001), activation='tanh'))\n",
        "    self.model.add(Dense(units=4096, activation='relu'))\n",
        "    #self.model.add(Dropout(0.25))\n",
        "    self.model.add(Dense(units=4096, activation='relu'))\n",
        "    #self.model.add(Dropout(0.25))\n",
        "    self.model.add(Dense(units=1000, activation='relu'))\n",
        "    self.model.add(Dense(units=1, activation='linear'))\n",
        "\n",
        "    self.model.compile(loss='mae',\n",
        "                  optimizer='adam',\n",
        "                  metrics=['mae', 'mse'])"
      ],
      "execution_count": 10,
      "outputs": []
    },
    {
      "cell_type": "code",
      "metadata": {
        "id": "bkJYbOk1XU2J",
        "colab_type": "code",
        "colab": {}
      },
      "source": [
        "def train(train_images, train_labels, test_images, test_labels):\n",
        "  # PARAMETERS\n",
        "  epoch = 20\n",
        "  batch_size = 512\n",
        "  early = EarlyStopping(monitor='val_loss', min_delta=0, patience=10, verbose=1, mode='auto')\n",
        "\n",
        "  # BUILD YOUR MODEL \n",
        "  model = CNN().model\n",
        "\n",
        "  %%time\n",
        "  hist = model.fit(train_images, train_labels, epochs=epoch, batch_size=batch_size,\n",
        "            validation_data=(test_images[:-10000], test_labels[:-10000]), verbose=1, callbacks=[early])\n",
        "\n",
        "  plt.plot(hist.history['loss'], 'b-', label=\"training\")\n",
        "  plt.plot(hist.history['val_loss'], 'r:', label=\"validation\")\n",
        "  plt.legend()\n",
        "  plt.savefig(os.path.join(current_dir, 'loss.png'), dpi=300)\n",
        "  plt.show()\n",
        "\n",
        "  # Make prediction data frame\n",
        "  test_pred = model.predict(test_images[-10000:])\n",
        "  pred_labels = test_labels[-10000:]\n",
        "  #index = np.argsort(pred_labels)\n",
        "  index = np.arange(test_pred.shape[0])\n",
        "  scatter = plt.scatter(index, pred_labels, c = 'b', s = 0.1, label='test label')\n",
        "  scatter = plt.scatter(index, test_pred, c = 'r', s = 0.1, label='predict')\n",
        "  plt.legend()\n",
        "  plt.savefig(os.path.join(current_dir, 'predict.png'), dpi=300)\n",
        "  plt.show()\n",
        "\n",
        "  h5_file = os.path.join(current_dir, 'model.h5')\n",
        "  model.save(h5_file)\n",
        "  \n",
        "  return model"
      ],
      "execution_count": 17,
      "outputs": []
    },
    {
      "cell_type": "code",
      "metadata": {
        "id": "jhYo7eLMXZ0K",
        "colab_type": "code",
        "colab": {
          "base_uri": "https://localhost:8080/",
          "height": 1000
        },
        "outputId": "cd3f4325-5410-464e-96e2-df2570d551a5"
      },
      "source": [
        "train_images = X[:int(num_X*0.8)]\n",
        "train_labels = Y[:int(num_X*0.8)]\n",
        "test_images = X[int(num_X*0.8):]\n",
        "test_labels = Y[int(num_X*0.8):]\n",
        "\n",
        "a = train(train_images, train_labels, test_images, test_labels)"
      ],
      "execution_count": 12,
      "outputs": [
        {
          "output_type": "stream",
          "text": [
            "CPU times: user 2 µs, sys: 1 µs, total: 3 µs\n",
            "Wall time: 6.91 µs\n",
            "Epoch 1/20\n",
            " 2/45 [>.............................] - ETA: 14s - loss: 32.4356 - mae: 32.4356 - mse: 2144.9802WARNING:tensorflow:Callbacks method `on_train_batch_end` is slow compared to the batch time (batch time: 0.1862s vs `on_train_batch_end` time: 0.4658s). Check your callbacks.\n",
            "45/45 [==============================] - 31s 695ms/step - loss: 1.6015 - mae: 1.6015 - mse: 96.7099 - val_loss: 0.1063 - val_mae: 0.1063 - val_mse: 0.0213\n",
            "Epoch 2/20\n",
            "45/45 [==============================] - 29s 655ms/step - loss: 0.1030 - mae: 0.1030 - mse: 0.0180 - val_loss: 0.1027 - val_mae: 0.1027 - val_mse: 0.0168\n",
            "Epoch 3/20\n",
            "45/45 [==============================] - 29s 652ms/step - loss: 0.0987 - mae: 0.0987 - mse: 0.0165 - val_loss: 0.0984 - val_mae: 0.0984 - val_mse: 0.0162\n",
            "Epoch 4/20\n",
            "45/45 [==============================] - 29s 654ms/step - loss: 0.0973 - mae: 0.0973 - mse: 0.0163 - val_loss: 0.0976 - val_mae: 0.0976 - val_mse: 0.0164\n",
            "Epoch 5/20\n",
            "45/45 [==============================] - 29s 653ms/step - loss: 0.0956 - mae: 0.0956 - mse: 0.0160 - val_loss: 0.0967 - val_mae: 0.0967 - val_mse: 0.0170\n",
            "Epoch 6/20\n",
            "45/45 [==============================] - 29s 653ms/step - loss: 0.0946 - mae: 0.0946 - mse: 0.0157 - val_loss: 0.0998 - val_mae: 0.0998 - val_mse: 0.0161\n",
            "Epoch 7/20\n",
            "45/45 [==============================] - 29s 651ms/step - loss: 0.0936 - mae: 0.0936 - mse: 0.0156 - val_loss: 0.0966 - val_mae: 0.0966 - val_mse: 0.0153\n",
            "Epoch 8/20\n",
            "45/45 [==============================] - 29s 651ms/step - loss: 0.0923 - mae: 0.0923 - mse: 0.0152 - val_loss: 0.0949 - val_mae: 0.0949 - val_mse: 0.0162\n",
            "Epoch 9/20\n",
            "45/45 [==============================] - 29s 654ms/step - loss: 0.0907 - mae: 0.0907 - mse: 0.0149 - val_loss: 0.0992 - val_mae: 0.0992 - val_mse: 0.0159\n",
            "Epoch 10/20\n",
            "45/45 [==============================] - 29s 652ms/step - loss: 0.0901 - mae: 0.0901 - mse: 0.0147 - val_loss: 0.0961 - val_mae: 0.0961 - val_mse: 0.0176\n",
            "Epoch 11/20\n",
            "45/45 [==============================] - 29s 654ms/step - loss: 0.0880 - mae: 0.0880 - mse: 0.0143 - val_loss: 0.1039 - val_mae: 0.1039 - val_mse: 0.0171\n",
            "Epoch 12/20\n",
            "45/45 [==============================] - 29s 653ms/step - loss: 0.0864 - mae: 0.0864 - mse: 0.0139 - val_loss: 0.0959 - val_mae: 0.0959 - val_mse: 0.0178\n",
            "Epoch 13/20\n",
            "45/45 [==============================] - 29s 654ms/step - loss: 0.0841 - mae: 0.0841 - mse: 0.0135 - val_loss: 0.0944 - val_mae: 0.0944 - val_mse: 0.0167\n",
            "Epoch 14/20\n",
            "45/45 [==============================] - 29s 653ms/step - loss: 0.0820 - mae: 0.0820 - mse: 0.0130 - val_loss: 0.0941 - val_mae: 0.0941 - val_mse: 0.0158\n",
            "Epoch 15/20\n",
            "45/45 [==============================] - 29s 653ms/step - loss: 0.0797 - mae: 0.0797 - mse: 0.0125 - val_loss: 0.0940 - val_mae: 0.0940 - val_mse: 0.0165\n",
            "Epoch 16/20\n",
            "45/45 [==============================] - 29s 653ms/step - loss: 0.0771 - mae: 0.0771 - mse: 0.0119 - val_loss: 0.0954 - val_mae: 0.0954 - val_mse: 0.0172\n",
            "Epoch 17/20\n",
            "45/45 [==============================] - 29s 653ms/step - loss: 0.0753 - mae: 0.0753 - mse: 0.0115 - val_loss: 0.0948 - val_mae: 0.0948 - val_mse: 0.0165\n",
            "Epoch 18/20\n",
            "45/45 [==============================] - 29s 654ms/step - loss: 0.0725 - mae: 0.0725 - mse: 0.0109 - val_loss: 0.0953 - val_mae: 0.0953 - val_mse: 0.0165\n",
            "Epoch 19/20\n",
            "45/45 [==============================] - 29s 651ms/step - loss: 0.0691 - mae: 0.0691 - mse: 0.0102 - val_loss: 0.0965 - val_mae: 0.0965 - val_mse: 0.0168\n",
            "Epoch 20/20\n",
            "45/45 [==============================] - 29s 653ms/step - loss: 0.0677 - mae: 0.0677 - mse: 0.0099 - val_loss: 0.0956 - val_mae: 0.0956 - val_mse: 0.0165\n"
          ],
          "name": "stdout"
        },
        {
          "output_type": "display_data",
          "data": {
            "image/png": "[encoded data removed]",
            "text/plain": [
              "<Figure size 432x288 with 1 Axes>"
            ]
          },
          "metadata": {
            "tags": [],
            "needs_background": "light"
          }
        },
        {
          "output_type": "display_data",
          "data": {
            "image/png": "[encoded data removed]",
            "text/plain": [
              "<Figure size 432x288 with 1 Axes>"
            ]
          },
          "metadata": {
            "tags": [],
            "needs_background": "light"
          }
        }
      ]
    },
    {
      "cell_type": "code",
      "metadata": {
        "id": "vlLpVjRnnWoi",
        "colab_type": "code",
        "colab": {
          "base_uri": "https://localhost:8080/",
          "height": 265
        },
        "outputId": "662d1a31-9edb-4e7d-cc34-ccc8d5b0ec97"
      },
      "source": [
        "# Make prediction data frame\n",
        "im = test_images[-10000:]\n",
        "lab = test_labels[-10000:]\n",
        "#im = train_images\n",
        "#lab = train_labels\n",
        "test_pred = a.predict(im)\n",
        "pred_labels = lab\n",
        "index = np.argsort(pred_labels)\n",
        "#index = np.arange(test_pred.shape[0])\n",
        "scatter = plt.scatter(np.arange(test_pred.shape[0]), pred_labels[index], c = 'b', s = 0.1, label='test label')\n",
        "scatter = plt.scatter(np.arange(test_pred.shape[0]), test_pred[index], c = 'r', s = 0.1, label='predict')\n",
        "plt.legend()\n",
        "plt.savefig(os.path.join(current_dir, 'result.png'), dpi=300)\n",
        "plt.show()"
      ],
      "execution_count": 22,
      "outputs": [
        {
          "output_type": "display_data",
          "data": {
            "image/png": "[encoded data removed]",
            "text/plain": [
              "<Figure size 432x288 with 1 Axes>"
            ]
          },
          "metadata": {
            "tags": [],
            "needs_background": "light"
          }
        }
      ]
    },
    {
      "cell_type": "code",
      "metadata": {
        "id": "CvJYHeksuUdE",
        "colab_type": "code",
        "colab": {
          "base_uri": "https://localhost:8080/",
          "height": 52
        },
        "outputId": "9fc9766a-7f52-4cca-df60-23cf6382c7f8"
      },
      "source": [
        "print(np.mean(pred_labels))\n",
        "print(np.mean(test_pred))"
      ],
      "execution_count": 14,
      "outputs": [
        {
          "output_type": "stream",
          "text": [
            "0.45075276430450945\n",
            "0.4434005\n"
          ],
          "name": "stdout"
        }
      ]
    }
  ]
}